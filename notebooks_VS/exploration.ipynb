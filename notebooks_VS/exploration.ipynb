{
 "cells": [
  {
   "cell_type": "code",
   "execution_count": 3,
   "metadata": {},
   "outputs": [
    {
     "data": {
      "text/plain": [
       "<bound method Response.json of <Response [200]>>"
      ]
     },
     "execution_count": 3,
     "metadata": {},
     "output_type": "execute_result"
    }
   ],
   "source": [
    "import requests\n",
    "URL = \"https://api-adresse.data.gouv.fr/search/?q=\"\n",
    "ADDRESS = \"31 avenue du Granier, 38240, Meylan \"\n",
    "r = requests.get(URL + ADDRESS)\n",
    "r.json"
   ]
  },
  {
   "cell_type": "code",
   "execution_count": 5,
   "metadata": {},
   "outputs": [
    {
     "data": {
      "text/plain": [
       "{'type': 'FeatureCollection',\n",
       " 'version': 'draft',\n",
       " 'features': [{'type': 'Feature',\n",
       "   'geometry': {'type': 'Point', 'coordinates': [5.785322, 45.210283]},\n",
       "   'properties': {'label': '31 Avenue du Granier 38240 Meylan',\n",
       "    'score': 0.9660799999999999,\n",
       "    'housenumber': '31',\n",
       "    'id': '38229_0383_00031',\n",
       "    'banId': '25c9dd50-e49d-45f8-8bbe-53fafc196c78',\n",
       "    'name': '31 Avenue du Granier',\n",
       "    'postcode': '38240',\n",
       "    'citycode': '38229',\n",
       "    'x': 918612.49,\n",
       "    'y': 6460629.48,\n",
       "    'city': 'Meylan',\n",
       "    'context': '38, Isère, Auvergne-Rhône-Alpes',\n",
       "    'type': 'housenumber',\n",
       "    'importance': 0.62688,\n",
       "    'street': 'Avenue du Granier'}}],\n",
       " 'attribution': 'BAN',\n",
       " 'licence': 'ETALAB-2.0',\n",
       " 'query': '31 avenue du Granier, 38240, Meylan ',\n",
       " 'limit': 5}"
      ]
     },
     "execution_count": 5,
     "metadata": {},
     "output_type": "execute_result"
    }
   ],
   "source": [
    "r.json()"
   ]
  },
  {
   "cell_type": "code",
   "execution_count": 6,
   "metadata": {},
   "outputs": [
    {
     "data": {
      "text/plain": [
       "{'type': 'FeatureCollection',\n",
       " 'version': 'draft',\n",
       " 'features': [{'type': 'Feature',\n",
       "   'geometry': {'type': 'Point', 'coordinates': [5.785322, 45.210283]},\n",
       "   'properties': {'label': '31 Avenue du Granier 38240 Meylan',\n",
       "    'score': 0.9660799999999999,\n",
       "    'housenumber': '31',\n",
       "    'id': '38229_0383_00031',\n",
       "    'banId': '25c9dd50-e49d-45f8-8bbe-53fafc196c78',\n",
       "    'name': '31 Avenue du Granier',\n",
       "    'postcode': '38240',\n",
       "    'citycode': '38229',\n",
       "    'x': 918612.49,\n",
       "    'y': 6460629.48,\n",
       "    'city': 'Meylan',\n",
       "    'context': '38, Isère, Auvergne-Rhône-Alpes',\n",
       "    'type': 'housenumber',\n",
       "    'importance': 0.62688,\n",
       "    'street': 'Avenue du Granier'}}],\n",
       " 'attribution': 'BAN',\n",
       " 'licence': 'ETALAB-2.0',\n",
       " 'query': '31 avenue du Granier, 38240, Meylan ',\n",
       " 'limit': 5}"
      ]
     },
     "execution_count": 6,
     "metadata": {},
     "output_type": "execute_result"
    }
   ],
   "source": [
    "r.json()"
   ]
  },
  {
   "cell_type": "code",
   "execution_count": 9,
   "metadata": {},
   "outputs": [
    {
     "data": {
      "text/plain": [
       "[45.18302, 5.703469]"
      ]
     },
     "execution_count": 9,
     "metadata": {},
     "output_type": "execute_result"
    }
   ],
   "source": [
    "def get_coordinates(address:str) -> list:\n",
    "\n",
    "    URL = \"https://api-adresse.data.gouv.fr/search/?q=\"\n",
    "    \n",
    "    r = requests.get(URL + address)\n",
    "    coordinates= r.json()['features'][0]['geometry']['coordinates'][::-1]\n",
    "\n",
    "    return coordinates\n",
    "\n",
    "get_coordinates(\"26 rue docteur graffier\")"
   ]
  },
  {
   "cell_type": "code",
   "execution_count": 10,
   "metadata": {},
   "outputs": [
    {
     "ename": "ModuleNotFoundError",
     "evalue": "No module named 'haversine'",
     "output_type": "error",
     "traceback": [
      "\u001b[1;31m---------------------------------------------------------------------------\u001b[0m",
      "\u001b[1;31mModuleNotFoundError\u001b[0m                       Traceback (most recent call last)",
      "Cell \u001b[1;32mIn [10], line 1\u001b[0m\n\u001b[1;32m----> 1\u001b[0m \u001b[38;5;28;01mimport\u001b[39;00m \u001b[38;5;21;01mhaversine\u001b[39;00m\n",
      "\u001b[1;31mModuleNotFoundError\u001b[0m: No module named 'haversine'"
     ]
    }
   ],
   "source": [
    "import haversine"
   ]
  },
  {
   "cell_type": "code",
   "execution_count": 11,
   "metadata": {},
   "outputs": [
    {
     "name": "stdout",
     "output_type": "stream",
     "text": [
      "Collecting haversineNote: you may need to restart the kernel to use updated packages.\n"
     ]
    },
    {
     "name": "stderr",
     "output_type": "stream",
     "text": [
      "\n",
      "[notice] A new release of pip is available: 23.0 -> 24.2\n",
      "[notice] To update, run: python.exe -m pip install --upgrade pip\n"
     ]
    },
    {
     "name": "stdout",
     "output_type": "stream",
     "text": [
      "\n",
      "  Downloading haversine-2.8.1-py2.py3-none-any.whl (7.7 kB)\n",
      "Installing collected packages: haversine\n",
      "Successfully installed haversine-2.8.1\n"
     ]
    }
   ],
   "source": [
    "%pip install haversine"
   ]
  },
  {
   "cell_type": "code",
   "execution_count": 17,
   "metadata": {},
   "outputs": [
    {
     "name": "stdout",
     "output_type": "stream",
     "text": [
      "[45.18302, 5.703469] [45.208191, 5.696166]\n"
     ]
    }
   ],
   "source": [
    "import haversine\n",
    "import requests\n",
    "def get_coordinateset_coordinates(address:str) -> list:\n",
    "\n",
    "    URL = \"https://api-adresse.data.gouv.fr/search/?q=\"\n",
    "    r = requests.get(URL + address)\n",
    "    coordinates= r.json()['features'][0]['geometry']['coordinates'][::-1]\n",
    "    return coordinates\n",
    "\n",
    "first= get_coordinates(\"26 rue docteur graffier\")\n",
    "second= get_coordinates(\"71 avenue des Martyrs CS 20156, 38042 GRENOBLE Cedex 9 - France\")\n",
    "first= get_coordinates(\" \")\n",
    "\n",
    "print(first, second)"
   ]
  },
  {
   "cell_type": "code",
   "execution_count": 18,
   "metadata": {},
   "outputs": [
    {
     "data": {
      "text/plain": [
       "2.8567919775950514"
      ]
     },
     "execution_count": 18,
     "metadata": {},
     "output_type": "execute_result"
    }
   ],
   "source": [
    "haversine.haversine([45.18302, 5.703469], [45.208191, 5.696166])       "
   ]
  },
  {
   "cell_type": "code",
   "execution_count": null,
   "metadata": {},
   "outputs": [],
   "source": []
  }
 ],
 "metadata": {
  "kernelspec": {
   "display_name": "Python 3",
   "language": "python",
   "name": "python3"
  },
  "language_info": {
   "codemirror_mode": {
    "name": "ipython",
    "version": 3
   },
   "file_extension": ".py",
   "mimetype": "text/x-python",
   "name": "python",
   "nbconvert_exporter": "python",
   "pygments_lexer": "ipython3",
   "version": "3.10.8"
  }
 },
 "nbformat": 4,
 "nbformat_minor": 2
}
